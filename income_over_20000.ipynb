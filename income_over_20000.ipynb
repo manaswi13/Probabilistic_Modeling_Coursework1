{
 "cells": [
  {
   "cell_type": "code",
   "execution_count": 1,
   "id": "4c8aa539-4cf3-44e9-a338-000c2d274fc9",
   "metadata": {},
   "outputs": [
    {
     "name": "stdout",
     "output_type": "stream",
     "text": [
      "Estimated percentage above £20,000 (ML): 65.3%\n",
      "Estimated percentage above £20,000 (MAP): 65.8%\n"
     ]
    }
   ],
   "source": [
    "lambda_ml = 1.4829\n",
    "lambda_map = 1.4565\n",
    "xm = 15000\n",
    "x = 20000\n",
    "\n",
    "p_ml = (xm / x) ** lambda_ml\n",
    "p_map = (xm / x) ** lambda_map\n",
    "\n",
    "print(f\"Estimated percentage above £20,000 (ML): {100 * p_ml:.1f}%\")\n",
    "print(f\"Estimated percentage above £20,000 (MAP): {100 * p_map:.1f}%\")\n"
   ]
  },
  {
   "cell_type": "code",
   "execution_count": null,
   "id": "2286f51b-a83a-47cd-b9d1-c22da38d12d3",
   "metadata": {},
   "outputs": [],
   "source": []
  }
 ],
 "metadata": {
  "kernelspec": {
   "display_name": "Python 3 (ipykernel)",
   "language": "python",
   "name": "python3"
  },
  "language_info": {
   "codemirror_mode": {
    "name": "ipython",
    "version": 3
   },
   "file_extension": ".py",
   "mimetype": "text/x-python",
   "name": "python",
   "nbconvert_exporter": "python",
   "pygments_lexer": "ipython3",
   "version": "3.12.7"
  }
 },
 "nbformat": 4,
 "nbformat_minor": 5
}
